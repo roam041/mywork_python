{
 "cells": [
  {
   "cell_type": "markdown",
   "metadata": {},
   "source": [
    "## 利用 Acceptance/Rejection Method 產生標準常態分配樣本"
   ]
  },
  {
   "cell_type": "markdown",
   "metadata": {},
   "source": [
    "### Part I. Compute c for the A/R method"
   ]
  },
  {
   "cell_type": "markdown",
   "metadata": {},
   "source": [
    "We aim to use A/R method to generate a random sample from standard normal distribution.\n",
    "Our alternative distribution $g(x)$ is an exponential distribution with $\\lambda=1$ \n",
    "\n",
    " $g(x) = \\lambda e^{-\\lambda x}, x>0, \\lambda=1$ and \n",
    " $f(x) = \\frac{1}{\\sqrt{2\\pi}}e^{-\\frac{x^2}{2}}, 0\\leq x<\\infty$ are given.\n",
    "\n",
    "First, we prove that the alternative $cg(x) = \\sqrt{\\frac{2e}{\\pi}}e^{-x},x>0$ can be used to generaterandom samples of standard normal distribution by rejection method.\n",
    "\n",
    "Since $g(x) = e^{-x},x>0$ is everywhere higher than the standard normal density $f$ for $X \\geq 0$, and $cg(x)$ has to be higher than the truncated distribution $\\phi^{*}(x) = \\frac{2}{\\sqrt{2\\pi}}e^{- \\frac{x^2}{2}}$, for $0\\leq x <\\infty$.\n",
    "\n",
    "This can be written as an inequality equation \n",
    "$$ce^{-x} \\geq \\sqrt{\\frac{2}{\\pi}}e^{-\\frac{x^2}{2}}, \\forall x \\geq 0$$\n",
    "\n",
    "$$\\Rightarrow c \\geq \\sqrt{\\frac{2}{\\pi}}e^{x-\\frac{x^2}{2}}$$\n",
    "\n",
    "We denote $h(x) = \\frac{f(x)}{g(x)} = \\sqrt{\\frac{2}{\\pi}}e^{x-\\frac{x^2}{2}}$ and solve $h'(x)=0$ to compute its maximum.\n",
    "\n",
    "$h'(x) = (1-x)e^{x-\\frac{x^2}{2}}=0$ shows that the highest value occurs at $x=1$.\n",
    "Moreover, $h''(x) = -(1-x)^2e^{x-\\frac{x^2}{2}}<0$ assures that $x=1$ is maximum.\n",
    "\n",
    "Hence we compute $c = \\sqrt{\\frac{2}{\\pi}}e^{1-\\frac{1^2}{2}} = \\sqrt{\\frac{2e}{\\pi}}$."
   ]
  },
  {
   "cell_type": "markdown",
   "metadata": {},
   "source": [
    "### Part II. Application with Python"
   ]
  },
  {
   "cell_type": "markdown",
   "metadata": {},
   "source": [
    "The original algorithm for generating a random sample of $\\phi,Z\\sim N(0,1)$:\n",
    "\n",
    " 1. Generate $Y$ with $Exp(\\lambda=1)$. Because $-ln(U) \\sim Exp(\\lambda=1)$ ($U \\sim U[0,1]$), we set $Y=-ln(U)$.\n",
    " 2. Generate $U_1 \\sim U[0,1]$.\n",
    " 3. If $U \\leq \\frac{f(y)}{cg(y)} = e^{-\\frac{(y-1)^2}{2}}$ then set $\\mid Z\\mid = Y$, otherwise go back to step 1.\n",
    " 4. Generate $U_2 \\sim U[0,1]$. If $U_2 \\leq 0.5$ then set Z = $\\mid Z\\mid$, otherwise set Z = $-\\mid Z\\mid$.\n",
    " \n",
    "By rewriting $U \\leq e^{-\\frac{(y-1)^2}{2}}$ as $-lnU \\geq \\frac{(Y-1)^2}{2}$ in step 3, we can simplify the original algorithm to the following:\n",
    "\n",
    " 1. Generate $Y_1 = -lnU_1$ and $Y_2 = -lnU_2$\n",
    " 2. If $Y_2 \\geq \\frac{(Y_1-1)^2}{2}$ then set $\\mid Z\\mid = Y_1$, otherwise go back to step 1.\n",
    " 3. Generate $U_3 \\sim U[0,1]$. Set $Z = \\mid Z\\mid$ if $U_3 \\leq 0.5$, otherwise set $Z = -\\mid Z\\mid$. "
   ]
  },
  {
   "cell_type": "code",
   "execution_count": null,
   "metadata": {},
   "outputs": [],
   "source": [
    "n <- 10000\n",
    "cnt = 0 # accepted counts\n",
    "z.abs <- c()\n",
    "z <- c()\n",
    "for (i in 1:n){\n",
    "  y1 <- (-log(runif(1,0,1)))\n",
    "  y2 <- (-log(runif(1,0,1)))\n",
    "  if(y2 >= ((y1-1)^2)/2){\n",
    "    cnt = cnt + 1\n",
    "    z.abs[cnt] <- y1\n",
    "  }\n",
    "}\n",
    "cnt/n # acceptance rate\n",
    "z.pos <- c(); z.neg <- c()\n",
    "cnt.pos = 0; cnt.neg = 0\n",
    "for (j in 1:length(z.abs)){\n",
    "  u <- runif(1,0,1)\n",
    "  if(u <= 0.5){\n",
    "    cnt.pos = cnt.pos + 1\n",
    "    z.pos[cnt.pos] <- z.abs[j]\n",
    "  }else{\n",
    "    cnt.neg = cnt.neg + 1\n",
    "    z.neg[cnt.neg] <- -(z.abs[j])\n",
    "  }\n",
    "}"
   ]
  },
  {
   "cell_type": "code",
   "execution_count": 20,
   "metadata": {},
   "outputs": [
    {
     "name": "stdout",
     "output_type": "stream",
     "text": [
      "0.7569\n"
     ]
    }
   ],
   "source": [
    "import math\n",
    "import numpy as np\n",
    "\n",
    "n = 10000\n",
    "cnt = 0 # accepted counts (用以存取 10000 個數字中，有多少個被接受)\n",
    "z_abs = [] #用以存放 z 的取絕對值數列\n",
    "for i in range(n):\n",
    "    y1 = -(math.log(np.random.uniform(low=0, high=1, size=1)))\n",
    "    y2 = -(math.log(np.random.uniform(low=0, high=1, size=1)))\n",
    "    if y2 >= ((y1-1)**2)/2:\n",
    "        cnt = cnt + 1\n",
    "        z_abs.append(y1)\n",
    "print(cnt/n) # acceptance rate 應接近 0.76，即 1/c"
   ]
  },
  {
   "cell_type": "code",
   "execution_count": 40,
   "metadata": {},
   "outputs": [
    {
     "data": {
      "text/plain": [
       "7569"
      ]
     },
     "execution_count": 40,
     "metadata": {},
     "output_type": "execute_result"
    }
   ],
   "source": [
    "z_pos = []; z_neg = []\n",
    "cnt_pos = 0; cnt_neg = 0\n",
    "for j in range(len(z_abs)):\n",
    "    u = np.random.uniform(0,1,1)\n",
    "    if u >= 0.5:\n",
    "        cnt_pos = cnt_pos + 1\n",
    "        z_pos.append(z_abs[j])\n",
    "    else:\n",
    "        cnt_neg = cnt_neg + 1\n",
    "        z_neg.append(-z_abs[j])\n",
    "z = z_pos + z_neg\n",
    "len(z)"
   ]
  },
  {
   "cell_type": "code",
   "execution_count": 71,
   "metadata": {},
   "outputs": [
    {
     "name": "stderr",
     "output_type": "stream",
     "text": [
      "C:\\ProgramData\\Anaconda3\\lib\\site-packages\\matplotlib\\axes\\_axes.py:6462: UserWarning: The 'normed' kwarg is deprecated, and has been replaced by the 'density' kwarg.\n",
      "  warnings.warn(\"The 'normed' kwarg is deprecated, and has been \"\n",
      "C:\\ProgramData\\Anaconda3\\lib\\site-packages\\ipykernel_launcher.py:12: MatplotlibDeprecationWarning: scipy.stats.norm.pdf\n",
      "  if sys.path[0] == '':\n"
     ]
    },
    {
     "data": {
      "image/png": "[encoded data removed]",
      "text/plain": [
       "<Figure size 432x288 with 1 Axes>"
      ]
     },
     "metadata": {},
     "output_type": "display_data"
    }
   ],
   "source": [
    "from scipy.stats import norm\n",
    "% matplotlib inline\n",
    "import matplotlib.pyplot as plt\n",
    "import matplotlib.mlab as mlab\n",
    "\n",
    "mu = 0\n",
    "variance = 1\n",
    "sigma = math.sqrt(variance)\n",
    "bins = np.linspace(-4, 4, len(z))\n",
    "\n",
    "plt.hist(z, bins=40, normed=1, facecolor='skyblue', alpha=0.5) #畫出產生的樣本之直方圖\n",
    "y = mlab.normpdf(bins, mu, sigma) #真正常態分配的 density\n",
    "plt.plot(bins, y, 'r--')\n",
    "plt.ylabel('Probability')\n",
    "plt.xlabel('Z')\n",
    "plt.show()"
   ]
  }
 ],
 "metadata": {
  "kernelspec": {
   "display_name": "Python 3",
   "language": "python",
   "name": "python3"
  },
  "language_info": {
   "codemirror_mode": {
    "name": "ipython",
    "version": 3
   },
   "file_extension": ".py",
   "mimetype": "text/x-python",
   "name": "python",
   "nbconvert_exporter": "python",
   "pygments_lexer": "ipython3",
   "version": "3.6.5"
  }
 },
 "nbformat": 4,
 "nbformat_minor": 2
}
