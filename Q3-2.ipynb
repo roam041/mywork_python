{
 "cells": [
  {
   "cell_type": "markdown",
   "metadata": {},
   "source": [
    "# Probability plotting"
   ]
  },
  {
   "cell_type": "code",
   "execution_count": 179,
   "metadata": {},
   "outputs": [],
   "source": [
    "%matplotlib inline\n",
    "import numpy as np\n",
    "from scipy.stats import gumbel_r\n",
    "from sklearn.linear_model import LinearRegression\n",
    "import matplotlib.pyplot as plt"
   ]
  },
  {
   "cell_type": "markdown",
   "metadata": {},
   "source": [
    "## Read the text file"
   ]
  },
  {
   "cell_type": "code",
   "execution_count": 101,
   "metadata": {},
   "outputs": [],
   "source": [
    "with open(\"data_q3-2.txt\", \"r\") as f:\n",
    "    test = [i for line in f for i in line.split('\\t')]"
   ]
  },
  {
   "cell_type": "markdown",
   "metadata": {},
   "source": [
    "## Use strip() to remove '\\n'"
   ]
  },
  {
   "cell_type": "code",
   "execution_count": 140,
   "metadata": {},
   "outputs": [],
   "source": [
    "mylist = list(map(lambda test: test.strip(), test))\n",
    "n = len(mylist)"
   ]
  },
  {
   "cell_type": "code",
   "execution_count": 177,
   "metadata": {},
   "outputs": [],
   "source": [
    "# Sort the sample data\n",
    "arr = np.array([float(x) for x in mylist])\n",
    "arr_sorted = np.sort(arr)"
   ]
  },
  {
   "cell_type": "code",
   "execution_count": 192,
   "metadata": {},
   "outputs": [],
   "source": [
    "#arr.reshape(-1, 1)"
   ]
  },
  {
   "cell_type": "markdown",
   "metadata": {},
   "source": [
    "## Steps for probability plotting (quantile-quantile plot)"
   ]
  },
  {
   "cell_type": "markdown",
   "metadata": {},
   "source": [
    "With the sample $\\{x_n\\}$, we aim to draw the probability plots of Gumbel distribution.\n",
    "\n",
    "Here are the steps of producing the probability plot:\n",
    "\n",
    "1. Ordered the sample data $x_1,x_2,...,x_n$\n",
    "2. Compute $z_i = G^{-1}[F_n(x_i)]$ on $x_i$, where $G$ is the target probability distribution (Gumbel) and empirical cdf $F_n(x_i) = \\frac{i-0.5}{n}, n=1,2,...,n$\n",
    "3. Fitted a regression line for $x_i$ on $z_i$ and added to the scatter plot\n"
   ]
  },
  {
   "cell_type": "code",
   "execution_count": 214,
   "metadata": {},
   "outputs": [],
   "source": [
    "# Empirical cdf\n",
    "ecdf = []\n",
    "for i in np.arange(1,n+1,1):\n",
    "    ecdf.append((i-0.5)/n)\n",
    "z = gumbel_r.ppf(ecdf) # quantiles for gumbel distribution"
   ]
  },
  {
   "cell_type": "code",
   "execution_count": 215,
   "metadata": {},
   "outputs": [],
   "source": [
    "# Regress sorted data on z\n",
    "lm = LinearRegression()\n",
    "lm.fit(np.reshape(z1,(len(z1),1)), np.reshape(arr_sorted,(len(arr_sorted),1)));"
   ]
  },
  {
   "cell_type": "code",
   "execution_count": 216,
   "metadata": {},
   "outputs": [
    {
     "name": "stdout",
     "output_type": "stream",
     "text": [
      "[99.13881706]\n",
      "[[31.01433821]]\n"
     ]
    }
   ],
   "source": [
    "print(lm.intercept_)\n",
    "print(lm.coef_)"
   ]
  },
  {
   "cell_type": "markdown",
   "metadata": {},
   "source": [
    "## Probability plot "
   ]
  },
  {
   "cell_type": "code",
   "execution_count": 218,
   "metadata": {},
   "outputs": [
    {
     "data": {
      "image/png": "[encoded data removed]",
      "text/plain": [
       "<Figure size 432x432 with 1 Axes>"
      ]
     },
     "metadata": {},
     "output_type": "display_data"
    }
   ],
   "source": [
    "plt.figure(figsize=[6,6]) \n",
    "plt.scatter(z, arr_sorted)\n",
    "\n",
    "# The fitted regression line\n",
    "f = lambda x: 31.0143*x + 99.1388\n",
    "x = np.array([min(z),max(z)])\n",
    "plt.plot(x,f(x), c=\"orange\", label=\"fitted line\")\n",
    "\n",
    "plt.xlabel('Z')\n",
    "plt.ylabel('Sample data')\n",
    "plt.title('Q-Q plot for gumbel distr.')\n",
    "plt.legend()\n",
    "plt.show();"
   ]
  },
  {
   "cell_type": "markdown",
   "metadata": {},
   "source": [
    "[nbviewer for Q3-2](https://nbviewer.jupyter.org/github/roam041/Q3-2/blob/master/Q3-2.ipynb)"
   ]
  }
 ],
 "metadata": {
  "kernelspec": {
   "display_name": "Python 3",
   "language": "python",
   "name": "python3"
  },
  "language_info": {
   "codemirror_mode": {
    "name": "ipython",
    "version": 3
   },
   "file_extension": ".py",
   "mimetype": "text/x-python",
   "name": "python",
   "nbconvert_exporter": "python",
   "pygments_lexer": "ipython3",
   "version": "3.6.5"
  },
  "varInspector": {
   "cols": {
    "lenName": 16,
    "lenType": 16,
    "lenVar": 40
   },
   "kernels_config": {
    "python": {
     "delete_cmd_postfix": "",
     "delete_cmd_prefix": "del ",
     "library": "var_list.py",
     "varRefreshCmd": "print(var_dic_list())"
    },
    "r": {
     "delete_cmd_postfix": ") ",
     "delete_cmd_prefix": "rm(",
     "library": "var_list.r",
     "varRefreshCmd": "cat(var_dic_list()) "
    }
   },
   "types_to_exclude": [
    "module",
    "function",
    "builtin_function_or_method",
    "instance",
    "_Feature"
   ],
   "window_display": false
  }
 },
 "nbformat": 4,
 "nbformat_minor": 2
}
