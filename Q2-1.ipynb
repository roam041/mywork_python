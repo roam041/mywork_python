{
 "cells": [
  {
   "cell_type": "markdown",
   "metadata": {},
   "source": [
    "## Generating Bivariate Standard Normal Random Numbers"
   ]
  },
  {
   "cell_type": "markdown",
   "metadata": {},
   "source": [
    "### Derive the algorithm of simulating random samples of a bivariate normal distribution using the concept of Principal Component Analysis\n",
    "\n",
    "We assume that $X \\sim N(0,1)$, $Y \\sim N(0,1)$ and denote $\\rho$ as their correlation coefficient. By using principal component analysis, we transform the original coordinate to a new one that $X'$ and $Y'$ are not coorelated to each other, in other words, new $X$ is orthogonal to new $Y$. \n",
    "\n",
    "First of all, we formulate our problem to the following equation.\n",
    "\n",
    "$$\\begin{bmatrix} X' \\\\ Y'\\end{bmatrix} = \\begin{bmatrix} cos(\\theta) & -sin(\\theta) \\\\ sin(\\theta) & cos(\\theta) \\end{bmatrix} \\begin{bmatrix} X \\\\ Y \\end{bmatrix}$$\n",
    "\n",
    "where $\\theta=-45^{\\circ}$ (rotate counterclockwise) to make the two new axes perpendicular to each other.  \n",
    "\n",
    "Then we have 2 simultaneous equations.\n",
    "\n",
    "$$\\begin{cases} X' = \\frac{\\sqrt{2}}{2}(X+Y) \\\\ Y'= \\frac{\\sqrt{2}}{2}(-X+Y)\\end{cases}$$\n",
    "\n",
    "To come up with the algorithm, we compute the expectation and variance of $X' \\mbox{ and } Y'$.\n",
    "\n",
    "$$\\begin{array}{lcl} E(X') = E(\\frac{\\sqrt{2}}{2}(X+Y)) = 0 \\\\ E(Y') = E(\\frac{\\sqrt{2}}{2}(-X+Y)) = 0 \\end{array}$$\n",
    "\n",
    "for $E(X) = E(Y) = 0$.\n",
    "\n",
    "$$\\begin{array}{lcl} Var(X') = E({X'}^2)-[E(X')]^2 \\\\ = E[\\frac{1}{2}(X+Y)^2] \\\\ =\\frac{1}{2}\\{E(X^2)+2E(XY)+E(Y^2)\\} \\\\ =\\frac{1}{2} (2+2\\rho) \\\\ = 1+\\rho \\end{array}$$\n",
    "\n",
    "where $E({X}^2) = E({Y}^2) = 1$ because they follow Chi-squared distribution with degree of freedom 1. \n",
    "($X^2 \\sim \\chi^2(1), \\mbox{ } Y^2 \\sim \\chi^2(1)$).\n",
    "\n",
    "While $E(XY) = \\frac{E[(X-\\mu_x)(Y-\\mu_y)]}{\\sigma_x \\sigma_y} = \\rho$.\n",
    "Similarly, we compute $Var(Y') = 1-\\rho$.\n",
    "\n",
    "Hence, we find that the independent variables $X' \\sim N(0,1+\\rho), \\mbox{ } Y' \\sim N(0,1-\\rho)$.\n",
    "\n",
    "The algorithm to generate a random sample of bivariate standard normal distribution is\n",
    "\n",
    " 1. Given $\\rho$, generate $x' \\sim N(0,1+\\rho)$ and $y' \\sim N(0,1-\\rho)$\n",
    " 2. Set the pair of bivariate normal sample $(x,y) = \\Big(\\frac{x'+ y'}{\\sqrt{2}}, \\frac{x'- y'}{\\sqrt{2}} \\Big)$\n",
    " \n",
    " "
   ]
  },
  {
   "cell_type": "markdown",
   "metadata": {},
   "source": [
    "### Interactive Scatter Plot"
   ]
  },
  {
   "cell_type": "code",
   "execution_count": 3,
   "metadata": {},
   "outputs": [
    {
     "data": {
      "application/vnd.jupyter.widget-view+json": {
       "model_id": "c22c11a096ac4959b5d584473dda2720",
       "version_major": 2,
       "version_minor": 0
      },
      "text/plain": [
       "interactive(children=(FloatSlider(value=0.5, description='rho', max=1.0, step=0.05), Output()), _dom_classes=(…"
      ]
     },
     "metadata": {},
     "output_type": "display_data"
    }
   ],
   "source": [
    "%matplotlib inline\n",
    "import numpy as np\n",
    "import math\n",
    "import matplotlib.pyplot as plt\n",
    "from ipywidgets import interact\n",
    "\n",
    "def func(rho):\n",
    "    plt.figure(figsize=[5,5], facecolor='White')\n",
    "    n = 1000\n",
    "    np.random.normal(loc=0, scale=1+rho, size=n)\n",
    "    x_prime = np.random.normal(loc=0, scale=1+rho, size=n)\n",
    "    y_prime = np.random.normal(loc=0, scale=1-rho, size=n)\n",
    "    x = (x_prime + y_prime)/math.sqrt(2)\n",
    "    y = (x_prime - y_prime)/math.sqrt(2)\n",
    "    plt.xlim(-5,5)\n",
    "    plt.ylim(-5,5)\n",
    "    plt.scatter(x=x, y=y)\n",
    "    plt.xlabel(\"x\")\n",
    "    plt.ylabel(\"y\")\n",
    "    plt.title(\"Bivariate Standard Normal Random Numbers\");\n",
    "    plt.show()\n",
    "interact(func, rho = (0.,1.,0.05));"
   ]
  },
  {
   "cell_type": "markdown",
   "metadata": {},
   "source": [
    "## nbviewer"
   ]
  },
  {
   "cell_type": "markdown",
   "metadata": {},
   "source": [
    "[Q2-1 nbviewer](https://nbviewer.jupyter.org/github/roam041/Q2-1/blob/master/Q2-1.ipynb?fbclid=IwAR0ZVMkto4qMgbttzjGAXXDoBZnxTMQbetd_3dBk6qrMgWXttJEIF9Zem8k)"
   ]
  },
  {
   "cell_type": "code",
   "execution_count": null,
   "metadata": {},
   "outputs": [],
   "source": []
  }
 ],
 "metadata": {
  "kernelspec": {
   "display_name": "Python 3",
   "language": "python",
   "name": "python3"
  },
  "language_info": {
   "codemirror_mode": {
    "name": "ipython",
    "version": 3
   },
   "file_extension": ".py",
   "mimetype": "text/x-python",
   "name": "python",
   "nbconvert_exporter": "python",
   "pygments_lexer": "ipython3",
   "version": "3.6.5"
  }
 },
 "nbformat": 4,
 "nbformat_minor": 2
}
